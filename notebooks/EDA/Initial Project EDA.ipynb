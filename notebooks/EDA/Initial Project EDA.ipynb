{
 "cells": [
  {
   "cell_type": "markdown",
   "metadata": {},
   "source": [
    "**This notebook was done as part of the pre-analysis stages**"
   ]
  },
  {
   "cell_type": "code",
   "execution_count": 1,
   "metadata": {},
   "outputs": [],
   "source": [
    "import pandas as pd\n",
    "from sklearn.preprocessing import MinMaxScaler\n",
    "import numpy as np\n",
    "import statsmodels.api as sm\n",
    "import matplotlib.pyplot as plt\n",
    "import pandas as pd\n",
    "from statsmodels.tsa.vector_ar.vecm import coint_johansen\n",
    "from statsmodels.tsa.stattools import adfuller\n",
    "from statsmodels.tsa.api import VAR\n",
    "\n",
    "from statsmodels.stats.stattools import durbin_watson\n"
   ]
  },
  {
   "cell_type": "code",
   "execution_count": 2,
   "metadata": {},
   "outputs": [],
   "source": [
    "#world bank\n",
    "world_bank_prices = pd.read_csv(\"/Users/ritwikgiri/Documents/University of Melbourne/Semester 3/Data Science Project/Project Data and Resources/20230330_student_pack/data/worldbank/CMOHistoricalDataMonthly.MonthlyPrices.csv\")\n",
    "world_bank_prices = world_bank_prices.rename(columns={'MONTH': 'date'})\n",
    "\n",
    "#teleconnections jra55 #Exogenous ENSO Factors\n",
    "tc_jra_AO = pd.read_csv(\"/Users/ritwikgiri/Documents/University of Melbourne/Semester 3/Data Science Project/Project Data and Resources/20230330_student_pack/data/jra55/jra55.AO.csv\")\n",
    "tc_jra_IOD = pd.read_csv(\"/Users/ritwikgiri/Documents/University of Melbourne/Semester 3/Data Science Project/Project Data and Resources/20230330_student_pack/data/jra55/jra55.IOD.csv\")\n",
    "tc_jra_MEI = pd.read_csv(\"/Users/ritwikgiri/Documents/University of Melbourne/Semester 3/Data Science Project/Project Data and Resources/20230330_student_pack/data/jra55/jra55.MEI.csv\")\n",
    "tc_jra_NHTELE = pd.read_csv(\"/Users/ritwikgiri/Documents/University of Melbourne/Semester 3/Data Science Project/Project Data and Resources/20230330_student_pack/data/jra55/jra55.NHTELE.csv\")\n",
    "tc_jra_PNA = pd.read_csv(\"/Users/ritwikgiri/Documents/University of Melbourne/Semester 3/Data Science Project/Project Data and Resources/20230330_student_pack/data/jra55/jra55.PNA.csv\")\n",
    "tc_jra_PSA = pd.read_csv(\"/Users/ritwikgiri/Documents/University of Melbourne/Semester 3/Data Science Project/Project Data and Resources/20230330_student_pack/data/jra55/jra55.PSA.csv\")\n",
    "tc_jra_SAM = pd.read_csv(\"/Users/ritwikgiri/Documents/University of Melbourne/Semester 3/Data Science Project/Project Data and Resources/20230330_student_pack/data/jra55/jra55.SAM.csv\")\n",
    "\n",
    "#prepare data (Commodity wise) - For commodity wise modelling \n",
    "world_bank_prices = world_bank_prices[['date','WHEAT_US_HRW','SOYBEANS', 'RICE_05', 'MAIZE']]\n",
    "world_bank_prices = world_bank_prices.rename(columns={'WHEAT_US_HRW': 'WHEAT'})\n",
    "world_bank_prices = world_bank_prices.rename(columns={'RICE_05': 'RICE'})\n",
    "world_bank_prices_WHEAT = world_bank_prices[['date', 'WHEAT']]"
   ]
  },
  {
   "cell_type": "code",
   "execution_count": 3,
   "metadata": {},
   "outputs": [],
   "source": [
    "# Load and preprocess the datasets\n",
    "wheat_data = world_bank_prices_WHEAT\n",
    "mei_data = tc_jra_MEI\n",
    "\n",
    "# Combine the datasets based on the date column\n",
    "combined_data = pd.merge(wheat_data, mei_data, on='date')\n",
    "\n",
    "# Convert date column to datetime format\n",
    "combined_data['date'] = pd.to_datetime(combined_data['date'])\n",
    "\n",
    "# Calculate log returns of WHEAT prices\n",
    "combined_data['Wheat_LR'] = np.log(combined_data['WHEAT']).diff()\n",
    "\n",
    "\n",
    "#Range are already in comparable state hence we don't require further normalization of data\n",
    "\n",
    "#Normalize mei between -1 and 1\n",
    "mei_data = combined_data['mei'].values.reshape(-1, 1)\n",
    "scaler = MinMaxScaler(feature_range=(-1, 1))\n",
    "mei_normalized = scaler.fit_transform(mei_data)\n",
    "combined_data['mei_normalized'] = mei_normalized\n",
    "\n",
    "#Normalize WHEAT between -1 and 1 after taking log returns\n",
    "WHEAT_data = combined_data['WHEAT'].values.reshape(-1, 1)\n",
    "scaler = MinMaxScaler(feature_range=(-1, 1))\n",
    "WHEAT_normalized = scaler.fit_transform(WHEAT_data)\n",
    "combined_data['WHEAT_normalized'] = WHEAT_normalized\n",
    "\n",
    "\n",
    "wheat_mei_data = combined_data[['date', 'Wheat_LR', 'mei' ]]\n",
    "wheat_mei_data_norm = combined_data[['date', 'WHEAT_normalized', 'mei_normalized' ]]\n",
    "#wheat_mei_data.set_index('date', inplace=True)"
   ]
  },
  {
   "cell_type": "code",
   "execution_count": 4,
   "metadata": {},
   "outputs": [
    {
     "data": {
      "text/html": [
       "<div>\n",
       "<style scoped>\n",
       "    .dataframe tbody tr th:only-of-type {\n",
       "        vertical-align: middle;\n",
       "    }\n",
       "\n",
       "    .dataframe tbody tr th {\n",
       "        vertical-align: top;\n",
       "    }\n",
       "\n",
       "    .dataframe thead th {\n",
       "        text-align: right;\n",
       "    }\n",
       "</style>\n",
       "<table border=\"1\" class=\"dataframe\">\n",
       "  <thead>\n",
       "    <tr style=\"text-align: right;\">\n",
       "      <th></th>\n",
       "      <th>date</th>\n",
       "      <th>Wheat_LR</th>\n",
       "      <th>mei</th>\n",
       "    </tr>\n",
       "  </thead>\n",
       "  <tbody>\n",
       "    <tr>\n",
       "      <th>0</th>\n",
       "      <td>1960-01-01</td>\n",
       "      <td>NaN</td>\n",
       "      <td>-0.307</td>\n",
       "    </tr>\n",
       "    <tr>\n",
       "      <th>1</th>\n",
       "      <td>1960-01-02</td>\n",
       "      <td>0.018200</td>\n",
       "      <td>-0.210</td>\n",
       "    </tr>\n",
       "    <tr>\n",
       "      <th>2</th>\n",
       "      <td>1960-01-03</td>\n",
       "      <td>0.012060</td>\n",
       "      <td>-0.283</td>\n",
       "    </tr>\n",
       "    <tr>\n",
       "      <th>3</th>\n",
       "      <td>1960-01-04</td>\n",
       "      <td>-0.012060</td>\n",
       "      <td>-0.446</td>\n",
       "    </tr>\n",
       "    <tr>\n",
       "      <th>4</th>\n",
       "      <td>1960-01-05</td>\n",
       "      <td>-0.055626</td>\n",
       "      <td>-0.477</td>\n",
       "    </tr>\n",
       "  </tbody>\n",
       "</table>\n",
       "</div>"
      ],
      "text/plain": [
       "        date  Wheat_LR    mei\n",
       "0 1960-01-01       NaN -0.307\n",
       "1 1960-01-02  0.018200 -0.210\n",
       "2 1960-01-03  0.012060 -0.283\n",
       "3 1960-01-04 -0.012060 -0.446\n",
       "4 1960-01-05 -0.055626 -0.477"
      ]
     },
     "execution_count": 4,
     "metadata": {},
     "output_type": "execute_result"
    }
   ],
   "source": [
    "wheat_mei_data.head()"
   ]
  },
  {
   "cell_type": "code",
   "execution_count": 5,
   "metadata": {},
   "outputs": [
    {
     "data": {
      "text/html": [
       "<div>\n",
       "<style scoped>\n",
       "    .dataframe tbody tr th:only-of-type {\n",
       "        vertical-align: middle;\n",
       "    }\n",
       "\n",
       "    .dataframe tbody tr th {\n",
       "        vertical-align: top;\n",
       "    }\n",
       "\n",
       "    .dataframe thead th {\n",
       "        text-align: right;\n",
       "    }\n",
       "</style>\n",
       "<table border=\"1\" class=\"dataframe\">\n",
       "  <thead>\n",
       "    <tr style=\"text-align: right;\">\n",
       "      <th></th>\n",
       "      <th>date</th>\n",
       "      <th>WHEAT_normalized</th>\n",
       "      <th>mei_normalized</th>\n",
       "    </tr>\n",
       "  </thead>\n",
       "  <tbody>\n",
       "    <tr>\n",
       "      <th>0</th>\n",
       "      <td>1960-01-01</td>\n",
       "      <td>-0.960211</td>\n",
       "      <td>-0.158384</td>\n",
       "    </tr>\n",
       "    <tr>\n",
       "      <th>1</th>\n",
       "      <td>1960-01-02</td>\n",
       "      <td>-0.954534</td>\n",
       "      <td>-0.119192</td>\n",
       "    </tr>\n",
       "    <tr>\n",
       "      <th>2</th>\n",
       "      <td>1960-01-03</td>\n",
       "      <td>-0.950715</td>\n",
       "      <td>-0.148687</td>\n",
       "    </tr>\n",
       "    <tr>\n",
       "      <th>3</th>\n",
       "      <td>1960-01-04</td>\n",
       "      <td>-0.954534</td>\n",
       "      <td>-0.214545</td>\n",
       "    </tr>\n",
       "    <tr>\n",
       "      <th>4</th>\n",
       "      <td>1960-01-05</td>\n",
       "      <td>-0.971564</td>\n",
       "      <td>-0.227071</td>\n",
       "    </tr>\n",
       "  </tbody>\n",
       "</table>\n",
       "</div>"
      ],
      "text/plain": [
       "        date  WHEAT_normalized  mei_normalized\n",
       "0 1960-01-01         -0.960211       -0.158384\n",
       "1 1960-01-02         -0.954534       -0.119192\n",
       "2 1960-01-03         -0.950715       -0.148687\n",
       "3 1960-01-04         -0.954534       -0.214545\n",
       "4 1960-01-05         -0.971564       -0.227071"
      ]
     },
     "execution_count": 5,
     "metadata": {},
     "output_type": "execute_result"
    }
   ],
   "source": [
    "wheat_mei_data_norm.head()"
   ]
  },
  {
   "cell_type": "code",
   "execution_count": 6,
   "metadata": {},
   "outputs": [
    {
     "data": {
      "image/png": "[encoded data removed]",
      "text/plain": [
       "<Figure size 720x432 with 1 Axes>"
      ]
     },
     "metadata": {
      "needs_background": "light"
     },
     "output_type": "display_data"
    }
   ],
   "source": [
    "df = wheat_mei_data_norm.copy()\n",
    "df.set_index('date', inplace=True)\n",
    "\n",
    "\n",
    "# create the line chart\n",
    "fig, ax = plt.subplots(figsize=(10, 6))\n",
    "\n",
    "ax.plot(df.index, df['WHEAT_normalized'], label='Wheat')\n",
    "ax.plot(df.index, df['mei_normalized'], label='Mei')\n",
    "ax.set_xlabel('Date')\n",
    "ax.set_ylabel('Price')\n",
    "ax.set_title('Wheat and Mei Prices over Time')\n",
    "ax.legend()\n",
    "plt.show()"
   ]
  },
  {
   "cell_type": "code",
   "execution_count": 7,
   "metadata": {},
   "outputs": [
    {
     "data": {
      "image/png": "[encoded data removed]",
      "text/plain": [
       "<Figure size 720x432 with 1 Axes>"
      ]
     },
     "metadata": {
      "needs_background": "light"
     },
     "output_type": "display_data"
    }
   ],
   "source": [
    "#We see that the mei data from 1980 is more consistent hence we filter our original dataset.\n",
    "\n",
    "df1 = wheat_mei_data_norm\n",
    "\n",
    "# Filter the DataFrame to include data from 1980 onwards\n",
    "df_filtered = df1[df1['date'].dt.year >= 1980]\n",
    "df_filtered.set_index('date', inplace=True)\n",
    "\n",
    "# create the line chart\n",
    "fig, ax = plt.subplots(figsize=(10, 6))\n",
    "\n",
    "ax.plot(df_filtered.index, df_filtered['WHEAT_normalized'], label='Wheat')\n",
    "ax.plot(df_filtered.index, df_filtered['mei_normalized'], label='Mei')\n",
    "ax.set_xlabel('Date')\n",
    "ax.set_ylabel('Price')\n",
    "ax.set_title('Wheat and Mei Prices over Time')\n",
    "ax.legend()\n",
    "plt.show()\n"
   ]
  },
  {
   "cell_type": "code",
   "execution_count": 8,
   "metadata": {},
   "outputs": [],
   "source": [
    "#Updating the dataset\n",
    "wheat_mei_data = wheat_mei_data[wheat_mei_data['date'].dt.year >= 1980]\n",
    "wheat_mei_data_norm = wheat_mei_data_norm[wheat_mei_data_norm['date'].dt.year >= 1980]"
   ]
  },
  {
   "cell_type": "code",
   "execution_count": 9,
   "metadata": {},
   "outputs": [
    {
     "data": {
      "text/html": [
       "<div>\n",
       "<style scoped>\n",
       "    .dataframe tbody tr th:only-of-type {\n",
       "        vertical-align: middle;\n",
       "    }\n",
       "\n",
       "    .dataframe tbody tr th {\n",
       "        vertical-align: top;\n",
       "    }\n",
       "\n",
       "    .dataframe thead th {\n",
       "        text-align: right;\n",
       "    }\n",
       "</style>\n",
       "<table border=\"1\" class=\"dataframe\">\n",
       "  <thead>\n",
       "    <tr style=\"text-align: right;\">\n",
       "      <th></th>\n",
       "      <th>date</th>\n",
       "      <th>WHEAT_normalized</th>\n",
       "      <th>mei_normalized</th>\n",
       "    </tr>\n",
       "  </thead>\n",
       "  <tbody>\n",
       "    <tr>\n",
       "      <th>240</th>\n",
       "      <td>1980-01-01</td>\n",
       "      <td>-0.362904</td>\n",
       "      <td>0.049697</td>\n",
       "    </tr>\n",
       "    <tr>\n",
       "      <th>241</th>\n",
       "      <td>1980-01-02</td>\n",
       "      <td>-0.378025</td>\n",
       "      <td>0.022222</td>\n",
       "    </tr>\n",
       "    <tr>\n",
       "      <th>242</th>\n",
       "      <td>1980-01-03</td>\n",
       "      <td>-0.425453</td>\n",
       "      <td>0.050909</td>\n",
       "    </tr>\n",
       "    <tr>\n",
       "      <th>243</th>\n",
       "      <td>1980-01-04</td>\n",
       "      <td>-0.461475</td>\n",
       "      <td>0.042020</td>\n",
       "    </tr>\n",
       "    <tr>\n",
       "      <th>244</th>\n",
       "      <td>1980-01-05</td>\n",
       "      <td>-0.436858</td>\n",
       "      <td>0.072727</td>\n",
       "    </tr>\n",
       "  </tbody>\n",
       "</table>\n",
       "</div>"
      ],
      "text/plain": [
       "          date  WHEAT_normalized  mei_normalized\n",
       "240 1980-01-01         -0.362904        0.049697\n",
       "241 1980-01-02         -0.378025        0.022222\n",
       "242 1980-01-03         -0.425453        0.050909\n",
       "243 1980-01-04         -0.461475        0.042020\n",
       "244 1980-01-05         -0.436858        0.072727"
      ]
     },
     "execution_count": 9,
     "metadata": {},
     "output_type": "execute_result"
    }
   ],
   "source": [
    "wheat_mei_data_norm.head()"
   ]
  },
  {
   "cell_type": "code",
   "execution_count": 10,
   "metadata": {},
   "outputs": [
    {
     "data": {
      "text/html": [
       "<div>\n",
       "<style scoped>\n",
       "    .dataframe tbody tr th:only-of-type {\n",
       "        vertical-align: middle;\n",
       "    }\n",
       "\n",
       "    .dataframe tbody tr th {\n",
       "        vertical-align: top;\n",
       "    }\n",
       "\n",
       "    .dataframe thead th {\n",
       "        text-align: right;\n",
       "    }\n",
       "</style>\n",
       "<table border=\"1\" class=\"dataframe\">\n",
       "  <thead>\n",
       "    <tr style=\"text-align: right;\">\n",
       "      <th></th>\n",
       "      <th>date</th>\n",
       "      <th>Wheat_LR</th>\n",
       "      <th>mei</th>\n",
       "    </tr>\n",
       "  </thead>\n",
       "  <tbody>\n",
       "    <tr>\n",
       "      <th>240</th>\n",
       "      <td>1980-01-01</td>\n",
       "      <td>-0.024800</td>\n",
       "      <td>0.208</td>\n",
       "    </tr>\n",
       "    <tr>\n",
       "      <th>241</th>\n",
       "      <td>1980-01-02</td>\n",
       "      <td>-0.016824</td>\n",
       "      <td>0.140</td>\n",
       "    </tr>\n",
       "    <tr>\n",
       "      <th>242</th>\n",
       "      <td>1980-01-03</td>\n",
       "      <td>-0.054682</td>\n",
       "      <td>0.211</td>\n",
       "    </tr>\n",
       "    <tr>\n",
       "      <th>243</th>\n",
       "      <td>1980-01-04</td>\n",
       "      <td>-0.043626</td>\n",
       "      <td>0.189</td>\n",
       "    </tr>\n",
       "    <tr>\n",
       "      <th>244</th>\n",
       "      <td>1980-01-05</td>\n",
       "      <td>0.030018</td>\n",
       "      <td>0.265</td>\n",
       "    </tr>\n",
       "  </tbody>\n",
       "</table>\n",
       "</div>"
      ],
      "text/plain": [
       "          date  Wheat_LR    mei\n",
       "240 1980-01-01 -0.024800  0.208\n",
       "241 1980-01-02 -0.016824  0.140\n",
       "242 1980-01-03 -0.054682  0.211\n",
       "243 1980-01-04 -0.043626  0.189\n",
       "244 1980-01-05  0.030018  0.265"
      ]
     },
     "execution_count": 10,
     "metadata": {},
     "output_type": "execute_result"
    }
   ],
   "source": [
    "wheat_mei_data.head()"
   ]
  },
  {
   "cell_type": "code",
   "execution_count": 11,
   "metadata": {},
   "outputs": [
    {
     "name": "stdout",
     "output_type": "stream",
     "text": [
      "                  WHEAT_normalized  mei_normalized\n",
      "WHEAT_normalized          1.000000       -0.303583\n",
      "mei_normalized           -0.303583        1.000000\n"
     ]
    }
   ],
   "source": [
    "columns_of_interest = ['WHEAT_normalized', 'mei_normalized']\n",
    "\n",
    "# Create a subset DataFrame with the selected columns\n",
    "df_subset = wheat_mei_data_norm[columns_of_interest]\n",
    "\n",
    "# Calculate the correlation matrix\n",
    "correlation_matrix = df_subset.corr()\n",
    "\n",
    "# Print the correlation matrix\n",
    "print(correlation_matrix)"
   ]
  },
  {
   "cell_type": "code",
   "execution_count": 12,
   "metadata": {},
   "outputs": [
    {
     "name": "stdout",
     "output_type": "stream",
     "text": [
      "          Wheat_LR       mei\n",
      "Wheat_LR  1.000000 -0.092313\n",
      "mei      -0.092313  1.000000\n"
     ]
    }
   ],
   "source": [
    "columns_of_interest = ['Wheat_LR', 'mei']\n",
    "\n",
    "# Create a subset DataFrame with the selected columns\n",
    "df_subset = wheat_mei_data[columns_of_interest]\n",
    "\n",
    "# Calculate the correlation matrix\n",
    "correlation_matrix = df_subset.corr()\n",
    "\n",
    "# Print the correlation matrix\n",
    "print(correlation_matrix)"
   ]
  },
  {
   "cell_type": "code",
   "execution_count": 13,
   "metadata": {},
   "outputs": [
    {
     "data": {
      "text/html": [
       "<div>\n",
       "<style scoped>\n",
       "    .dataframe tbody tr th:only-of-type {\n",
       "        vertical-align: middle;\n",
       "    }\n",
       "\n",
       "    .dataframe tbody tr th {\n",
       "        vertical-align: top;\n",
       "    }\n",
       "\n",
       "    .dataframe thead th {\n",
       "        text-align: right;\n",
       "    }\n",
       "</style>\n",
       "<table border=\"1\" class=\"dataframe\">\n",
       "  <thead>\n",
       "    <tr style=\"text-align: right;\">\n",
       "      <th></th>\n",
       "      <th>date</th>\n",
       "      <th>Wheat_LR</th>\n",
       "      <th>mei</th>\n",
       "    </tr>\n",
       "  </thead>\n",
       "  <tbody>\n",
       "    <tr>\n",
       "      <th>240</th>\n",
       "      <td>1980-01-01</td>\n",
       "      <td>-0.024800</td>\n",
       "      <td>0.208</td>\n",
       "    </tr>\n",
       "    <tr>\n",
       "      <th>241</th>\n",
       "      <td>1980-01-02</td>\n",
       "      <td>-0.016824</td>\n",
       "      <td>0.140</td>\n",
       "    </tr>\n",
       "    <tr>\n",
       "      <th>242</th>\n",
       "      <td>1980-01-03</td>\n",
       "      <td>-0.054682</td>\n",
       "      <td>0.211</td>\n",
       "    </tr>\n",
       "    <tr>\n",
       "      <th>243</th>\n",
       "      <td>1980-01-04</td>\n",
       "      <td>-0.043626</td>\n",
       "      <td>0.189</td>\n",
       "    </tr>\n",
       "    <tr>\n",
       "      <th>244</th>\n",
       "      <td>1980-01-05</td>\n",
       "      <td>0.030018</td>\n",
       "      <td>0.265</td>\n",
       "    </tr>\n",
       "  </tbody>\n",
       "</table>\n",
       "</div>"
      ],
      "text/plain": [
       "          date  Wheat_LR    mei\n",
       "240 1980-01-01 -0.024800  0.208\n",
       "241 1980-01-02 -0.016824  0.140\n",
       "242 1980-01-03 -0.054682  0.211\n",
       "243 1980-01-04 -0.043626  0.189\n",
       "244 1980-01-05  0.030018  0.265"
      ]
     },
     "execution_count": 13,
     "metadata": {},
     "output_type": "execute_result"
    }
   ],
   "source": [
    "wheat_mei_data.head()"
   ]
  },
  {
   "cell_type": "code",
   "execution_count": 14,
   "metadata": {},
   "outputs": [],
   "source": [
    "wheat_mei_data = wheat_mei_data_norm.copy()"
   ]
  },
  {
   "cell_type": "markdown",
   "metadata": {},
   "source": [
    "# Causality Test"
   ]
  },
  {
   "cell_type": "markdown",
   "metadata": {},
   "source": [
    "Granger causality test is a statistical test used to determine whether one time series can predict or \"cause\" changes in another time series\n",
    "\n",
    "The Granger causality test is based on the principle that if variable X Granger-causes variable Y, then the past values of X should provide useful information in predicting the future values of Y, beyond what can be predicted using only the past values of Y itself."
   ]
  },
  {
   "cell_type": "code",
   "execution_count": 15,
   "metadata": {},
   "outputs": [
    {
     "name": "stdout",
     "output_type": "stream",
     "text": [
      "Granger causality test (lag=1):\n",
      "Null Hypothesis (H0): 'mei' does not Granger cause 'Wheat_LR'\n",
      "Alternative Hypothesis (H1): 'mei' Granger causes 'Wheat_LR'\n",
      "Result (Reject H0): True\n",
      "--------------------------------------------------\n",
      "Granger causality test (lag=2):\n",
      "Null Hypothesis (H0): 'mei' does not Granger cause 'Wheat_LR'\n",
      "Alternative Hypothesis (H1): 'mei' Granger causes 'Wheat_LR'\n",
      "Result (Reject H0): False\n",
      "--------------------------------------------------\n",
      "Granger causality test (lag=3):\n",
      "Null Hypothesis (H0): 'mei' does not Granger cause 'Wheat_LR'\n",
      "Alternative Hypothesis (H1): 'mei' Granger causes 'Wheat_LR'\n",
      "Result (Reject H0): False\n",
      "--------------------------------------------------\n",
      "Granger causality test (lag=4):\n",
      "Null Hypothesis (H0): 'mei' does not Granger cause 'Wheat_LR'\n",
      "Alternative Hypothesis (H1): 'mei' Granger causes 'Wheat_LR'\n",
      "Result (Reject H0): True\n",
      "--------------------------------------------------\n",
      "Granger causality test (lag=5):\n",
      "Null Hypothesis (H0): 'mei' does not Granger cause 'Wheat_LR'\n",
      "Alternative Hypothesis (H1): 'mei' Granger causes 'Wheat_LR'\n",
      "Result (Reject H0): True\n",
      "--------------------------------------------------\n",
      "Granger causality test (lag=6):\n",
      "Null Hypothesis (H0): 'mei' does not Granger cause 'Wheat_LR'\n",
      "Alternative Hypothesis (H1): 'mei' Granger causes 'Wheat_LR'\n",
      "Result (Reject H0): False\n",
      "--------------------------------------------------\n",
      "Number of significant lags: 3\n",
      "Significant lags: [1, 4, 5]\n"
     ]
    }
   ],
   "source": [
    "import pandas as pd\n",
    "from statsmodels.tsa.stattools import grangercausalitytests\n",
    "\n",
    "# Assuming you have your dataset loaded into a DataFrame called 'df'\n",
    "\n",
    "# Select the relevant columns for the test\n",
    "#data = wheat_mei_data[['Wheat_LR', 'mei']]\n",
    "data = wheat_mei_data[['WHEAT_normalized', 'mei_normalized']]\n",
    "\n",
    "# Perform Granger causality tests for different lag values\n",
    "max_lag = 6  # Maximum number of lags to test\n",
    "results = grangercausalitytests(data, max_lag, verbose=False)\n",
    "\n",
    "significant_lags = []\n",
    "\n",
    "# Iterate over the results for each lag\n",
    "for lag in range(1, max_lag + 1):\n",
    "    print(f\"Granger causality test (lag={lag}):\")\n",
    "    print(f\"Null Hypothesis (H0): 'mei' does not Granger cause 'Wheat_LR'\")\n",
    "    print(f\"Alternative Hypothesis (H1): 'mei' Granger causes 'Wheat_LR'\")\n",
    "    print(f\"Result (Reject H0): {results[lag][0]['ssr_ftest'][1] < 0.05}\")\n",
    "    \n",
    "    if results[lag][0]['ssr_ftest'][1] < 0.05:\n",
    "        significant_lags.append(lag)\n",
    "    \n",
    "    print(\"-\" * 50)\n",
    "\n",
    "print(f\"Number of significant lags: {len(significant_lags)}\")\n",
    "print(f\"Significant lags: {significant_lags}\")"
   ]
  },
  {
   "cell_type": "markdown",
   "metadata": {},
   "source": [
    "Based on the Granger causality test results, there is evidence to suggest that the (t-4) and (t-5) values of 'mei' Granger cause 'Wheat_LR'. However, the (t-1), (t-2), and (t-3) values of 'mei' do not appear to have a Granger causal relationship with 'Wheat_LR'.\n",
    "\n",
    "We can start with lag = 4 as of now."
   ]
  },
  {
   "cell_type": "markdown",
   "metadata": {},
   "source": [
    "# Cointegration Test"
   ]
  },
  {
   "cell_type": "markdown",
   "metadata": {},
   "source": [
    "The Johansen cointegration test is based on the idea that if two or more variables are cointegrated, there exists a long-term relationship among them that can be represented as a linear combination.\n",
    "\n",
    "This means that a linear combination of the variables will be stationary, indicating a stable equilibrium relationship.\n",
    "\n",
    "Cointegration is a statistical property that implies a stable, long-term relationship among the variables. It indicates that the variables move together in the long run, even if they may have short-term fluctuations or divergences.\n",
    "\n",
    "**Difference with causality:**\n",
    "Causality is concerned with the direction and strength of influence between variables. It aims to determine whether a change in one variable leads to a change in another variable and if so, the magnitude and significance of this relationship.\n"
   ]
  },
  {
   "cell_type": "code",
   "execution_count": 16,
   "metadata": {},
   "outputs": [
    {
     "name": "stdout",
     "output_type": "stream",
     "text": [
      "Johansen Cointegration Test Results:\n",
      "------------------------------------\n",
      "Trace Statistic:\n",
      "H0: There is no cointegration (Rank <= 0)\n",
      "Result: Cointegration is present\n",
      "\n",
      "H0: There is no cointegration (Rank <= 1)\n",
      "Result: Cointegration is present\n",
      "\n",
      "Maximum Eigenvalue Statistic:\n",
      "H0: There is no cointegration (Rank <= 0)\n",
      "Result: Cointegration is present\n",
      "\n",
      "H0: There is no cointegration (Rank <= 1)\n",
      "Result: Cointegration is present\n",
      "\n"
     ]
    }
   ],
   "source": [
    "# Perform Johansen cointegration test\n",
    "result = coint_johansen(data, det_order=0, k_ar_diff=1)\n",
    "\n",
    "# Extract test results\n",
    "trace_stat = result.lr1                      # Trace statistic\n",
    "trace_crit_vals = result.cvt                 # Critical values for the trace statistic\n",
    "max_eig_stat = result.lr2                     # Maximum eigenvalue statistic\n",
    "max_eig_crit_vals = result.cvm                # Critical values for the maximum eigenvalue statistic\n",
    "\n",
    "total_ranks = max(len(trace_stat), len(max_eig_stat))\n",
    "\n",
    "print(\"Johansen Cointegration Test Results:\")\n",
    "print(\"------------------------------------\")\n",
    "print(\"Trace Statistic:\")\n",
    "for i in range(total_ranks):\n",
    "    rank = i + 1\n",
    "    if i < len(trace_stat):\n",
    "        null_hypothesis = f\"H0: There is no cointegration (Rank <= {rank - 1})\"\n",
    "        presence_coint = \"Cointegration is present\" if trace_stat[i] > trace_crit_vals[i, 2] else \"Cointegration is not present\"\n",
    "        print(f\"{null_hypothesis}\\nResult: {presence_coint}\\n\")\n",
    "\n",
    "print(\"Maximum Eigenvalue Statistic:\")\n",
    "for i in range(total_ranks):\n",
    "    rank = i + 1\n",
    "    if i < len(max_eig_stat):\n",
    "        null_hypothesis = f\"H0: There is no cointegration (Rank <= {rank - 1})\"\n",
    "        presence_coint = \"Cointegration is present\" if max_eig_stat[i] > max_eig_crit_vals[i, 2] else \"Cointegration is not present\"\n",
    "        print(f\"{null_hypothesis}\\nResult: {presence_coint}\\n\")"
   ]
  },
  {
   "cell_type": "markdown",
   "metadata": {},
   "source": [
    " total rank indicates the maximum number of cointegrating relationships present in the system.\n",
    " Here, the rank is 1, that means that there is a presence of 1 cointegrating relationships among the variables. (mei and Wheat_LR)"
   ]
  },
  {
   "cell_type": "markdown",
   "metadata": {},
   "source": [
    "The results suggest that there is evidence of cointegration between the 'Wheat_LR' and 'mei' variables. Both the trace statistic and maximum eigenvalue statistic indicate the presence of at least one cointegrating relationship. Additionally, the results specifically support the existence of two cointegrating relationships between the variables."
   ]
  },
  {
   "cell_type": "code",
   "execution_count": 17,
   "metadata": {},
   "outputs": [
    {
     "name": "stdout",
     "output_type": "stream",
     "text": [
      "Cointegration Equations for Rank 1:\n",
      "WHEAT_normalized = 1.1744 *  + constant\n",
      "mei_normalized = 2.7799 *  + constant\n",
      "Lags for Rank 1: 0.07668741737933366\n",
      "\n",
      "Cointegration Equations for Rank 2:\n",
      "WHEAT_normalized = 1.1744 *  + 2.9841 * lag(mei_normalized, 2) + constant\n",
      "mei_normalized = 2.7799 *  + -0.1650 * lag(mei_normalized, 2) + constant\n",
      "Lags for Rank 2: 0.016287836039245496\n",
      "\n"
     ]
    }
   ],
   "source": [
    "# Perform Johansen cointegration test\n",
    "result = coint_johansen(data, det_order=0, k_ar_diff=1)\n",
    "\n",
    "# Extract test results\n",
    "eigenvectors = result.evec                       # Eigenvectors associated with cointegrating relationships\n",
    "ranks = total_ranks                              # Total ranks or maximum number of cointegrating relationships\n",
    "\n",
    "# Determine lags based on eigenvectors\n",
    "lags = result.eig                                # Lag order determined by the maximum lag in the cointegration equations\n",
    "\n",
    "# Print cointegration equations and lags\n",
    "for rank in range(ranks):\n",
    "    print(f\"Cointegration Equations for Rank {rank+1}:\")\n",
    "    for i in range(len(data.columns)):\n",
    "        equation = f\"{data.columns[i]} = \"\n",
    "        for j in range(rank+1):\n",
    "            coefficient = eigenvectors[i, j]\n",
    "            lag_term = f\"lag({data.columns[j]}, {j+1})\" if j > 0 else \"\"\n",
    "            equation += f\"{coefficient:.4f} * {lag_term} + \"\n",
    "        equation += \"constant\"\n",
    "        print(equation)\n",
    "    print(f\"Lags for Rank {rank+1}: {lags[rank]}\")\n",
    "    print()\n"
   ]
  },
  {
   "cell_type": "markdown",
   "metadata": {},
   "source": [
    "**Interpretation**\n",
    "The equation suggests that in the long run, the 'Wheat_LR' variable is influenced by a coefficient of 22.3983 times the current value of the 'Wheat_LR' variable itself, and there is no lag term involved in this relationship. Similarly, the 'mei' variable is influenced by a coefficient of 0.1571 times the current value of the 'mei' variable itself, and there is no lag term involved."
   ]
  },
  {
   "cell_type": "markdown",
   "metadata": {},
   "source": [
    "cointegration equation shows how the variables are related to each other in the long run. "
   ]
  },
  {
   "cell_type": "markdown",
   "metadata": {},
   "source": [
    "# Test and Make Stationary"
   ]
  },
  {
   "cell_type": "code",
   "execution_count": 18,
   "metadata": {},
   "outputs": [
    {
     "data": {
      "text/html": [
       "<div>\n",
       "<style scoped>\n",
       "    .dataframe tbody tr th:only-of-type {\n",
       "        vertical-align: middle;\n",
       "    }\n",
       "\n",
       "    .dataframe tbody tr th {\n",
       "        vertical-align: top;\n",
       "    }\n",
       "\n",
       "    .dataframe thead th {\n",
       "        text-align: right;\n",
       "    }\n",
       "</style>\n",
       "<table border=\"1\" class=\"dataframe\">\n",
       "  <thead>\n",
       "    <tr style=\"text-align: right;\">\n",
       "      <th></th>\n",
       "      <th>WHEAT_normalized</th>\n",
       "      <th>mei_normalized</th>\n",
       "    </tr>\n",
       "    <tr>\n",
       "      <th>date</th>\n",
       "      <th></th>\n",
       "      <th></th>\n",
       "    </tr>\n",
       "  </thead>\n",
       "  <tbody>\n",
       "    <tr>\n",
       "      <th>1980-01-01</th>\n",
       "      <td>-0.362904</td>\n",
       "      <td>0.049697</td>\n",
       "    </tr>\n",
       "    <tr>\n",
       "      <th>1980-01-02</th>\n",
       "      <td>-0.378025</td>\n",
       "      <td>0.022222</td>\n",
       "    </tr>\n",
       "    <tr>\n",
       "      <th>1980-01-03</th>\n",
       "      <td>-0.425453</td>\n",
       "      <td>0.050909</td>\n",
       "    </tr>\n",
       "    <tr>\n",
       "      <th>1980-01-04</th>\n",
       "      <td>-0.461475</td>\n",
       "      <td>0.042020</td>\n",
       "    </tr>\n",
       "    <tr>\n",
       "      <th>1980-01-05</th>\n",
       "      <td>-0.436858</td>\n",
       "      <td>0.072727</td>\n",
       "    </tr>\n",
       "  </tbody>\n",
       "</table>\n",
       "</div>"
      ],
      "text/plain": [
       "            WHEAT_normalized  mei_normalized\n",
       "date                                        \n",
       "1980-01-01         -0.362904        0.049697\n",
       "1980-01-02         -0.378025        0.022222\n",
       "1980-01-03         -0.425453        0.050909\n",
       "1980-01-04         -0.461475        0.042020\n",
       "1980-01-05         -0.436858        0.072727"
      ]
     },
     "execution_count": 18,
     "metadata": {},
     "output_type": "execute_result"
    }
   ],
   "source": [
    "wheat_mei_data = wheat_mei_data.set_index('date')\n",
    "wheat_mei_data.head()"
   ]
  },
  {
   "cell_type": "code",
   "execution_count": 19,
   "metadata": {},
   "outputs": [
    {
     "name": "stdout",
     "output_type": "stream",
     "text": [
      "WHEAT_normalized True\n",
      "mei_normalized True\n",
      "1\n",
      "number of times differencing 1\n"
     ]
    },
    {
     "data": {
      "text/plain": [
       "[]"
      ]
     },
     "execution_count": 19,
     "metadata": {},
     "output_type": "execute_result"
    },
    {
     "data": {
      "image/png": "[encoded data removed]",
      "text/plain": [
       "<Figure size 432x288 with 8 Axes>"
      ]
     },
     "metadata": {
      "needs_background": "light"
     },
     "output_type": "display_data"
    }
   ],
   "source": [
    "# ADF Test\n",
    "\n",
    "# check if p-value is < 0.05 for all variables\n",
    "\n",
    "def adftest(df):\n",
    "  is_stationary = True\n",
    "  for col in df.columns.values:\n",
    "    test_result = adfuller(df[col], autolag=\"AIC\")\n",
    "    if test_result[1] > 0.05:\n",
    "      is_stationary = False\n",
    "    print(col, test_result[1] < 0.05)\n",
    "\n",
    "  return is_stationary\n",
    "\n",
    "# Make Stationary by repeated differencing\n",
    "is_stationary = False\n",
    "df_diff = wheat_mei_data.copy()\n",
    "count_diff = 0\n",
    "\n",
    "while not is_stationary:\n",
    "  df_diff = df_diff.diff().dropna()\n",
    "  is_stationary = adftest(df_diff)\n",
    "  count_diff += 1\n",
    "  print(count_diff)\n",
    "  \n",
    "print(\"number of times differencing\", count_diff)\n",
    "df_diff.plot(subplots=True, layout=(4, 2))\n",
    "plt.plot()"
   ]
  },
  {
   "cell_type": "markdown",
   "metadata": {},
   "source": [
    "From the output above we see that both the variables are stationary. Hence, we will use the wheat_mei_data."
   ]
  },
  {
   "cell_type": "markdown",
   "metadata": {},
   "source": [
    "# Train Model with Vector Auto Regression (VAR)"
   ]
  },
  {
   "attachments": {
    "image.png": {
     "image/png": "[encoded data removed]"
    }
   },
   "cell_type": "markdown",
   "metadata": {},
   "source": [
    "![image.png](attachment:image.png)"
   ]
  },
  {
   "cell_type": "markdown",
   "metadata": {},
   "source": [
    "https://medium.com/analytics-vidhya/a-multivariate-time-series-guide-to-forecasting-and-modeling-with-python-codes-8733b5fd1a56"
   ]
  },
  {
   "cell_type": "code",
   "execution_count": 20,
   "metadata": {},
   "outputs": [
    {
     "name": "stderr",
     "output_type": "stream",
     "text": [
      "/Users/ritwikgiri/opt/anaconda3/lib/python3.9/site-packages/statsmodels/tsa/base/tsa_model.py:471: ValueWarning: A date index has been provided, but it has no associated frequency information and so will be ignored when e.g. forecasting.\n",
      "  self._init_dates(dates, freq)\n"
     ]
    },
    {
     "data": {
      "text/html": [
       "<table class=\"simpletable\">\n",
       "<caption>VAR Order Selection (* highlights the minimums)</caption>\n",
       "<tr>\n",
       "   <td></td>      <th>AIC</th>         <th>BIC</th>         <th>FPE</th>        <th>HQIC</th>    \n",
       "</tr>\n",
       "<tr>\n",
       "  <th>0</th>  <td>    -4.103</td>  <td>    -4.084</td>  <td>   0.01652</td>  <td>    -4.096</td> \n",
       "</tr>\n",
       "<tr>\n",
       "  <th>1</th>  <td>    -9.570</td>  <td>    -9.511</td>  <td> 6.979e-05</td>  <td>    -9.547</td> \n",
       "</tr>\n",
       "<tr>\n",
       "  <th>2</th>  <td>    -9.837</td>  <td>    -9.739*</td> <td> 5.345e-05</td>  <td>    -9.798</td> \n",
       "</tr>\n",
       "<tr>\n",
       "  <th>3</th>  <td>    -9.846</td>  <td>    -9.708</td>  <td> 5.297e-05</td>  <td>    -9.791</td> \n",
       "</tr>\n",
       "<tr>\n",
       "  <th>4</th>  <td>    -9.911</td>  <td>    -9.735</td>  <td> 4.961e-05</td>  <td>    -9.841*</td>\n",
       "</tr>\n",
       "<tr>\n",
       "  <th>5</th>  <td>    -9.905</td>  <td>    -9.689</td>  <td> 4.993e-05</td>  <td>    -9.819</td> \n",
       "</tr>\n",
       "<tr>\n",
       "  <th>6</th>  <td>    -9.921*</td> <td>    -9.666</td>  <td> 4.912e-05*</td> <td>    -9.820</td> \n",
       "</tr>\n",
       "<tr>\n",
       "  <th>7</th>  <td>    -9.909</td>  <td>    -9.614</td>  <td> 4.974e-05</td>  <td>    -9.792</td> \n",
       "</tr>\n",
       "<tr>\n",
       "  <th>8</th>  <td>    -9.919</td>  <td>    -9.586</td>  <td> 4.922e-05</td>  <td>    -9.787</td> \n",
       "</tr>\n",
       "<tr>\n",
       "  <th>9</th>  <td>    -9.909</td>  <td>    -9.536</td>  <td> 4.974e-05</td>  <td>    -9.761</td> \n",
       "</tr>\n",
       "<tr>\n",
       "  <th>10</th> <td>    -9.897</td>  <td>    -9.485</td>  <td> 5.033e-05</td>  <td>    -9.734</td> \n",
       "</tr>\n",
       "<tr>\n",
       "  <th>11</th> <td>    -9.889</td>  <td>    -9.437</td>  <td> 5.076e-05</td>  <td>    -9.710</td> \n",
       "</tr>\n",
       "<tr>\n",
       "  <th>12</th> <td>    -9.873</td>  <td>    -9.383</td>  <td> 5.155e-05</td>  <td>    -9.679</td> \n",
       "</tr>\n",
       "</table>"
      ],
      "text/plain": [
       "<class 'statsmodels.iolib.table.SimpleTable'>"
      ]
     },
     "execution_count": 20,
     "metadata": {},
     "output_type": "execute_result"
    }
   ],
   "source": [
    "train_size = int(0.9 * len(wheat_mei_data))\n",
    "df_train, df_test = wheat_mei_data[:train_size], wheat_mei_data[train_size:]\n",
    "\n",
    "# n = 4\n",
    "# df_train, df_test = wheat_mei_data[:-n], wheat_mei_data[-n:]\n",
    "\n",
    "# Select Order(p) of VAR\n",
    "model = VAR(df_train)\n",
    "model.select_order(maxlags=12).summary()"
   ]
  },
  {
   "cell_type": "markdown",
   "metadata": {},
   "source": [
    "AIC (Akaike Information Criterion): Measures the trade-off between model fit and complexity; the lag with the lowest AIC is chosen as the optimal lag.\n",
    "\n",
    "BIC (Bayesian Information Criterion): Similar to AIC, but penalizes more for model complexity; the lag with the lowest BIC is selected.\n",
    "\n",
    "FPE (Final Prediction Error): Estimates the fit of the model; the lag with the lowest FPE is considered.\n",
    "\n",
    "HQIC (Hannan-Quinn Information Criterion): Balances model fit and complexity; the lag with the lowest HQIC is preferred."
   ]
  },
  {
   "cell_type": "markdown",
   "metadata": {},
   "source": [
    "Based on this the lag value of 6 is consistently the best choice. The lower AIC, BIC, FPE, and HQIC values indicate a better fit of the model. \n",
    "\n",
    "But we can consider lag 4 as well as it has lowest BIC and HQIC value."
   ]
  },
  {
   "cell_type": "code",
   "execution_count": 21,
   "metadata": {},
   "outputs": [
    {
     "data": {
      "text/plain": [
       "  Summary of Regression Results   \n",
       "==================================\n",
       "Model:                         VAR\n",
       "Method:                        OLS\n",
       "Date:           Thu, 20, Jul, 2023\n",
       "Time:                     11:19:37\n",
       "--------------------------------------------------------------------\n",
       "No. of Equations:         2.00000    BIC:                   -9.77019\n",
       "Nobs:                     419.000    HQIC:                  -9.82847\n",
       "Log likelihood:           887.974    FPE:                5.18809e-05\n",
       "AIC:                     -9.86656    Det(Omega_mle):     5.06645e-05\n",
       "--------------------------------------------------------------------\n",
       "Results for equation WHEAT_normalized\n",
       "======================================================================================\n",
       "                         coefficient       std. error           t-stat            prob\n",
       "--------------------------------------------------------------------------------------\n",
       "const                      -0.011146         0.004914           -2.268           0.023\n",
       "L1.WHEAT_normalized         1.220841         0.047760           25.562           0.000\n",
       "L1.mei_normalized          -0.014142         0.025541           -0.554           0.580\n",
       "L2.WHEAT_normalized        -0.249703         0.047640           -5.241           0.000\n",
       "L2.mei_normalized          -0.003008         0.025666           -0.117           0.907\n",
       "======================================================================================\n",
       "\n",
       "Results for equation mei_normalized\n",
       "======================================================================================\n",
       "                         coefficient       std. error           t-stat            prob\n",
       "--------------------------------------------------------------------------------------\n",
       "const                      -0.015533         0.008485           -1.831           0.067\n",
       "L1.WHEAT_normalized        -0.057091         0.082468           -0.692           0.489\n",
       "L1.mei_normalized           1.362284         0.044103           30.889           0.000\n",
       "L2.WHEAT_normalized         0.038054         0.082262            0.463           0.644\n",
       "L2.mei_normalized          -0.444677         0.044318          -10.034           0.000\n",
       "======================================================================================\n",
       "\n",
       "Correlation matrix of residuals\n",
       "                    WHEAT_normalized  mei_normalized\n",
       "WHEAT_normalized            1.000000       -0.041783\n",
       "mei_normalized             -0.041783        1.000000\n",
       "\n"
      ]
     },
     "execution_count": 21,
     "metadata": {},
     "output_type": "execute_result"
    }
   ],
   "source": [
    "# Fit the Model\n",
    "model_fitted_2 = model.fit(2) #lag 2\n",
    "model_fitted_2.summary()"
   ]
  },
  {
   "cell_type": "code",
   "execution_count": 22,
   "metadata": {},
   "outputs": [
    {
     "data": {
      "text/plain": [
       "  Summary of Regression Results   \n",
       "==================================\n",
       "Model:                         VAR\n",
       "Method:                        OLS\n",
       "Date:           Thu, 20, Jul, 2023\n",
       "Time:                     11:19:37\n",
       "--------------------------------------------------------------------\n",
       "No. of Equations:         2.00000    BIC:                   -9.67623\n",
       "Nobs:                     415.000    HQIC:                  -9.82881\n",
       "Log likelihood:           908.467    FPE:                4.87616e-05\n",
       "AIC:                     -9.92861    Det(Omega_mle):     4.58445e-05\n",
       "--------------------------------------------------------------------\n",
       "Results for equation WHEAT_normalized\n",
       "======================================================================================\n",
       "                         coefficient       std. error           t-stat            prob\n",
       "--------------------------------------------------------------------------------------\n",
       "const                      -0.010063         0.005121           -1.965           0.049\n",
       "L1.WHEAT_normalized         1.253846         0.049626           25.266           0.000\n",
       "L1.mei_normalized          -0.029806         0.029648           -1.005           0.315\n",
       "L2.WHEAT_normalized        -0.403008         0.079636           -5.061           0.000\n",
       "L2.mei_normalized           0.059620         0.052845            1.128           0.259\n",
       "L3.WHEAT_normalized         0.196710         0.081713            2.407           0.016\n",
       "L3.mei_normalized          -0.105889         0.057038           -1.856           0.063\n",
       "L4.WHEAT_normalized        -0.117598         0.081405           -1.445           0.149\n",
       "L4.mei_normalized           0.064683         0.057233            1.130           0.258\n",
       "L5.WHEAT_normalized         0.169683         0.079407            2.137           0.033\n",
       "L5.mei_normalized          -0.015756         0.053267           -0.296           0.767\n",
       "L6.WHEAT_normalized        -0.127417         0.049479           -2.575           0.010\n",
       "L6.mei_normalized           0.016051         0.030061            0.534           0.593\n",
       "======================================================================================\n",
       "\n",
       "Results for equation mei_normalized\n",
       "======================================================================================\n",
       "                         coefficient       std. error           t-stat            prob\n",
       "--------------------------------------------------------------------------------------\n",
       "const                      -0.019172         0.008546           -2.243           0.025\n",
       "L1.WHEAT_normalized        -0.065865         0.082818           -0.795           0.426\n",
       "L1.mei_normalized           1.492632         0.049477           30.168           0.000\n",
       "L2.WHEAT_normalized         0.034533         0.132900            0.260           0.795\n",
       "L2.mei_normalized          -0.879465         0.088190           -9.972           0.000\n",
       "L3.WHEAT_normalized         0.101784         0.136366            0.746           0.455\n",
       "L3.mei_normalized           0.640307         0.095187            6.727           0.000\n",
       "L4.WHEAT_normalized        -0.116897         0.135851           -0.860           0.390\n",
       "L4.mei_normalized          -0.511802         0.095512           -5.358           0.000\n",
       "L5.WHEAT_normalized         0.049153         0.132517            0.371           0.711\n",
       "L5.mei_normalized           0.295123         0.088894            3.320           0.001\n",
       "L6.WHEAT_normalized        -0.028504         0.082572           -0.345           0.730\n",
       "L6.mei_normalized          -0.127794         0.050167           -2.547           0.011\n",
       "======================================================================================\n",
       "\n",
       "Correlation matrix of residuals\n",
       "                    WHEAT_normalized  mei_normalized\n",
       "WHEAT_normalized            1.000000       -0.014367\n",
       "mei_normalized             -0.014367        1.000000\n",
       "\n"
      ]
     },
     "execution_count": 22,
     "metadata": {},
     "output_type": "execute_result"
    }
   ],
   "source": [
    "model_fitted_6 = model.fit(6) #lag 6\n",
    "model_fitted_6.summary()"
   ]
  },
  {
   "cell_type": "markdown",
   "metadata": {},
   "source": [
    "# Residual Serial Correlation Test"
   ]
  },
  {
   "cell_type": "markdown",
   "metadata": {},
   "source": [
    "check if the residual of the model still contains leftover pattern. If yes, then we will need to make changes to the model e.g. increase the order of the VAR model.\n",
    "\n",
    "Durbin Watson’s statistic to check if there are serial correlations between residuals. If the test statistic is close to 2 means there’s no correlation. Meanwhile, close to 0 means positive and to 4 means negative correlation respectively."
   ]
  },
  {
   "cell_type": "code",
   "execution_count": 23,
   "metadata": {},
   "outputs": [
    {
     "data": {
      "text/plain": [
       "[('WHEAT_normalized', 1.945071262492814),\n",
       " ('mei_normalized', 1.8849211936490766)]"
      ]
     },
     "execution_count": 23,
     "metadata": {},
     "output_type": "execute_result"
    }
   ],
   "source": [
    "# Serial Correlation Test on Residual with Durbin Watson\n",
    "\n",
    "test_result = durbin_watson(model_fitted_2.resid)\n",
    "list(zip(df.columns, test_result))\n",
    "# results are close to two so no serial correlation left"
   ]
  },
  {
   "cell_type": "code",
   "execution_count": 24,
   "metadata": {},
   "outputs": [
    {
     "data": {
      "text/plain": [
       "[('WHEAT_normalized', 1.997012572957888),\n",
       " ('mei_normalized', 2.0003372490034383)]"
      ]
     },
     "execution_count": 24,
     "metadata": {},
     "output_type": "execute_result"
    }
   ],
   "source": [
    "# Serial Correlation Test on Residual with Durbin Watson\n",
    "\n",
    "test_result = durbin_watson(model_fitted_6.resid)\n",
    "list(zip(df.columns, test_result))\n",
    "# results are close to two so no serial correlation left"
   ]
  },
  {
   "cell_type": "markdown",
   "metadata": {},
   "source": [
    "Close to 0 hence no correlation."
   ]
  },
  {
   "cell_type": "markdown",
   "metadata": {},
   "source": [
    "# Forecast and Evaluate"
   ]
  },
  {
   "cell_type": "code",
   "execution_count": 25,
   "metadata": {},
   "outputs": [
    {
     "name": "stdout",
     "output_type": "stream",
     "text": [
      "Mean Absolute Error (MAE): [0.1577925  0.30531696]\n",
      "Mean Squared Error (MSE): [0.03397148 0.15773762]\n",
      "Root Mean Squared Error (RMSE): [0.18431353 0.39716195]\n"
     ]
    }
   ],
   "source": [
    "# Number of steps to forecast\n",
    "n_forecast_steps = len(df_test)\n",
    "\n",
    "# Forecasting\n",
    "forecast_values = model_fitted_2.forecast(model_fitted_2.endog, steps=n_forecast_steps)\n",
    "\n",
    "# Extract the actual values from the test dataset\n",
    "actual_values = df_test.values\n",
    "dates = df_test.index\n",
    "# Calculate evaluation metrics\n",
    "mae = np.mean(np.abs(forecast_values - actual_values), axis=0)\n",
    "mse = np.mean((forecast_values - actual_values)**2, axis=0)\n",
    "rmse = np.sqrt(mse)\n",
    "\n",
    "print(\"Mean Absolute Error (MAE):\", mae)\n",
    "print(\"Mean Squared Error (MSE):\", mse)\n",
    "print(\"Root Mean Squared Error (RMSE):\", rmse)"
   ]
  },
  {
   "cell_type": "code",
   "execution_count": 26,
   "metadata": {},
   "outputs": [
    {
     "data": {
      "image/png": "[encoded data removed]",
      "text/plain": [
       "<Figure size 864x432 with 1 Axes>"
      ]
     },
     "metadata": {
      "needs_background": "light"
     },
     "output_type": "display_data"
    },
    {
     "data": {
      "image/png": "[encoded data removed]",
      "text/plain": [
       "<Figure size 864x432 with 1 Axes>"
      ]
     },
     "metadata": {
      "needs_background": "light"
     },
     "output_type": "display_data"
    }
   ],
   "source": [
    "# Plotting Actual and Forecasted Values for 'Wheat_LR'\n",
    "plt.figure(figsize=(12, 6))\n",
    "plt.plot(dates, actual_values[:, 0], label='Actual Wheat_LR', color='blue')\n",
    "plt.plot(dates, forecast_values[:, 0], label='Forecasted Wheat_LR', color='red', linestyle='--')\n",
    "plt.xlabel('Date')\n",
    "plt.ylabel('Value')\n",
    "plt.title('Actual vs. Forecasted Values - Wheat_LR')\n",
    "plt.legend()\n",
    "plt.grid(True)\n",
    "plt.show()\n",
    "\n",
    "# Plotting Actual and Forecasted Values for 'mei'\n",
    "plt.figure(figsize=(12, 6))\n",
    "plt.plot(dates, actual_values[:, 1], label='Actual mei', color='green')\n",
    "plt.plot(dates, forecast_values[:, 1], label='Forecasted mei', color='orange', linestyle='--')\n",
    "plt.xlabel('Date')\n",
    "plt.ylabel('Value')\n",
    "plt.title('Actual vs. Forecasted Values - mei')\n",
    "plt.legend()\n",
    "plt.grid(True)\n",
    "plt.show()"
   ]
  },
  {
   "cell_type": "markdown",
   "metadata": {},
   "source": [
    "'Wheat' as the response variable and 'mei' as the explanatory variable, it is more appropriate to use VARIMA or VARMAX models, which are designed explicitly for multivariate time series analysis."
   ]
  }
 ],
 "metadata": {
  "kernelspec": {
   "display_name": "Python 3 (ipykernel)",
   "language": "python",
   "name": "python3"
  },
  "language_info": {
   "codemirror_mode": {
    "name": "ipython",
    "version": 3
   },
   "file_extension": ".py",
   "mimetype": "text/x-python",
   "name": "python",
   "nbconvert_exporter": "python",
   "pygments_lexer": "ipython3",
   "version": "3.8.10"
  }
 },
 "nbformat": 4,
 "nbformat_minor": 4
}
